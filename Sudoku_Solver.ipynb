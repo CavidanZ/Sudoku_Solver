{
  "nbformat": 4,
  "nbformat_minor": 0,
  "metadata": {
    "colab": {
      "provenance": [],
      "authorship_tag": "ABX9TyMz9nW8XrwVbbPLOdtvmSQd",
      "include_colab_link": true
    },
    "kernelspec": {
      "name": "python3",
      "display_name": "Python 3"
    },
    "language_info": {
      "name": "python"
    }
  },
  "cells": [
    {
      "cell_type": "markdown",
      "metadata": {
        "id": "view-in-github",
        "colab_type": "text"
      },
      "source": [
        "<a href=\"https://colab.research.google.com/github/CavidanZ/Sudoku_Solver/blob/main/Sudoku_Solver.ipynb\" target=\"_parent\"><img src=\"https://colab.research.google.com/assets/colab-badge.svg\" alt=\"Open In Colab\"/></a>"
      ]
    },
    {
      "cell_type": "code",
      "execution_count": 7,
      "metadata": {
        "id": "o9xtz21akGkg"
      },
      "outputs": [],
      "source": [
        "#Check first if the move is valid, i.e. the move does not violate sudoku rules\n",
        "\n",
        "def is_valid_move(grid, row, col, number):\n",
        "  #If there is the same number in a row\n",
        "  for x in range(9):\n",
        "    if grid[row][x] == number:\n",
        "      return False\n",
        "  #If there is the same number in a column\n",
        "  for x in range(9):\n",
        "    if grid[x][col] == number:\n",
        "      return False\n",
        "\n",
        "  #If there is the same number in a block\n",
        "  corner_row = row - row % 3\n",
        "  corner_col = col - col % 3\n",
        "  for x in range(3):\n",
        "    for y in range(3):\n",
        "      if grid[corner_row + x][corner_col + y] == number:\n",
        "        return False\n",
        "\n",
        "  return True"
      ]
    },
    {
      "cell_type": "code",
      "source": [
        "#Check if valid, then put the valid move on the cell\n",
        "\n",
        "def solve(grid, row, col):\n",
        "  if col == 9:\n",
        "    if row == 8:\n",
        "      return True\n",
        "    row += 1\n",
        "    col = 0\n",
        "\n",
        "  if grid[row][col] > 0:\n",
        "    return solve(grid, row, col + 1)\n",
        "\n",
        "  for num in range(1,10):\n",
        "    if is_valid_move(grid, row, col, num):\n",
        "      grid[row][col] = num\n",
        "\n",
        "      if solve(grid, row, col + 1):\n",
        "        return True\n",
        "\n",
        "    grid[row][col] = 0\n",
        "\n",
        "  #If no solution, return False\n",
        "  return False"
      ],
      "metadata": {
        "id": "Tod3T9N_lHP_"
      },
      "execution_count": 8,
      "outputs": []
    },
    {
      "cell_type": "code",
      "source": [
        "grid = [\n",
        "[8,0,0,0,0,0,1,0,5],\n",
        "[0,4,0,7,0,9,0,0,0],\n",
        "[0,0,0,6,0,0,0,0,0],\n",
        "[5,0,1,0,0,0,3,0,0],\n",
        "[2,0,0,0,0,0,0,0,0],\n",
        "[0,0,0,9,0,0,0,0,0],\n",
        "[0,0,0,0,1,0,8,0,0],\n",
        "[0,6,0,0,0,0,0,9,0],\n",
        "[0,0,0,0,0,0,0,7,0],\n",
        "]"
      ],
      "metadata": {
        "id": "xz-cn8KOkcwA"
      },
      "execution_count": 11,
      "outputs": []
    },
    {
      "cell_type": "code",
      "source": [
        "if solve(grid, 0, 0):\n",
        "  for i in range(9):\n",
        "    for j in range(9):\n",
        "      print(grid[i][j], end = \" \")\n",
        "    print()\n",
        "\n",
        "else:\n",
        "  print(\"No solution for this Sudoku\")"
      ],
      "metadata": {
        "colab": {
          "base_uri": "https://localhost:8080/"
        },
        "id": "BHY8GFhym7VH",
        "outputId": "e84c948a-6ada-4d59-eca5-6414a5dd91a2"
      },
      "execution_count": 12,
      "outputs": [
        {
          "output_type": "stream",
          "name": "stdout",
          "text": [
            "8 9 7 3 4 2 1 6 5 \n",
            "1 4 6 7 5 9 2 3 8 \n",
            "3 2 5 6 8 1 9 4 7 \n",
            "5 7 1 2 6 4 3 8 9 \n",
            "2 3 9 1 7 8 6 5 4 \n",
            "6 8 4 9 3 5 7 1 2 \n",
            "9 5 3 4 1 7 8 2 6 \n",
            "7 6 8 5 2 3 4 9 1 \n",
            "4 1 2 8 9 6 5 7 3 \n"
          ]
        }
      ]
    },
    {
      "cell_type": "code",
      "source": [],
      "metadata": {
        "id": "eoFvV93SnQOv"
      },
      "execution_count": null,
      "outputs": []
    }
  ]
}